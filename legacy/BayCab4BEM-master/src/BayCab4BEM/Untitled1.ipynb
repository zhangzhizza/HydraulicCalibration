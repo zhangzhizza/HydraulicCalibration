{
 "cells": [
  {
   "cell_type": "code",
   "execution_count": 3,
   "metadata": {
    "collapsed": false
   },
   "outputs": [
    {
     "ename": "ModuleNotFoundError",
     "evalue": "No module named 'theano'",
     "output_type": "error",
     "traceback": [
      "\u001b[0;31m---------------------------------------------------------------------------\u001b[0m",
      "\u001b[0;31mModuleNotFoundError\u001b[0m                       Traceback (most recent call last)",
      "\u001b[0;32m<ipython-input-3-af8c26d1892f>\u001b[0m in \u001b[0;36m<module>\u001b[0;34m()\u001b[0m\n\u001b[1;32m      1\u001b[0m \u001b[0;32mimport\u001b[0m \u001b[0mnumpy\u001b[0m \u001b[0;32mas\u001b[0m \u001b[0mnp\u001b[0m\u001b[0;34m\u001b[0m\u001b[0m\n\u001b[0;32m----> 2\u001b[0;31m \u001b[0;32mimport\u001b[0m \u001b[0mtheano\u001b[0m\u001b[0;34m.\u001b[0m\u001b[0mtensor\u001b[0m \u001b[0;32mas\u001b[0m \u001b[0mtt\u001b[0m\u001b[0;34m\u001b[0m\u001b[0m\n\u001b[0m\u001b[1;32m      3\u001b[0m \u001b[0;32mimport\u001b[0m \u001b[0mtheano\u001b[0m\u001b[0;34m\u001b[0m\u001b[0m\n\u001b[1;32m      4\u001b[0m \u001b[0;32mimport\u001b[0m \u001b[0mpymc3\u001b[0m \u001b[0;32mas\u001b[0m \u001b[0mpm\u001b[0m\u001b[0;34m\u001b[0m\u001b[0m\n\u001b[1;32m      5\u001b[0m \u001b[0;34m\u001b[0m\u001b[0m\n",
      "\u001b[0;31mModuleNotFoundError\u001b[0m: No module named 'theano'"
     ]
    }
   ],
   "source": [
    "import numpy as np\n",
    "import theano.tensor as tt\n",
    "import theano\n",
    "import pymc3 as pm\n",
    "\n",
    "import matplotlib.pyplot as plt\n",
    "from pymc3.step_methods.metropolis import Metropolis\n",
    "\n",
    "\n",
    "D_COMP = np.genfromtxt('cal_example_com_withoutSummer.csv', delimiter = ',')\n",
    "D_FIELD = np.genfromtxt('cal_example_field_withoutSummer.csv', delimiter = ',')\n",
    "\n",
    "\n",
    "y = D_FIELD[:,0]\n",
    "xf = D_FIELD[:,1:]\n",
    "(n,p) = xf.shape\n",
    "eta = D_COMP[:,0]\n",
    "xc = D_COMP[:,1:(p+1)]\n",
    "tc = D_COMP[:,(p+1):]\n",
    "(m,q) = tc.shape\n",
    "\n",
    "eta_mu = np.nanmean(eta)\n",
    "eta_sd = np.nanstd(eta)\n",
    "y = (y - eta_mu) / eta_sd\n",
    "eta = (eta - eta_mu) /eta_sd\n",
    "z = np.concatenate((y,eta), axis=0)\n",
    "\n",
    "x = np.concatenate((xf,xc), axis=0)\n",
    "x = (x - x.min(axis = 0)) / x.ptp(axis = 0)\n",
    "xf = x[0:n,:]\n",
    "xc = x[n:,:]\n",
    "tc = (tc - tc.min(axis = 0)) / tc.ptp(axis = 0)\n",
    "\n",
    "x_shared = theano.shared(x)\n",
    "z_shared = theano.shared(z)"
   ]
  },
  {
   "cell_type": "code",
   "execution_count": null,
   "metadata": {
    "collapsed": true
   },
   "outputs": [],
   "source": []
  }
 ],
 "metadata": {
  "kernelspec": {
   "display_name": "Python 3",
   "language": "python",
   "name": "python3"
  },
  "language_info": {
   "codemirror_mode": {
    "name": "ipython",
    "version": 3
   },
   "file_extension": ".py",
   "mimetype": "text/x-python",
   "name": "python",
   "nbconvert_exporter": "python",
   "pygments_lexer": "ipython3",
   "version": "3.6.0"
  }
 },
 "nbformat": 4,
 "nbformat_minor": 2
}
